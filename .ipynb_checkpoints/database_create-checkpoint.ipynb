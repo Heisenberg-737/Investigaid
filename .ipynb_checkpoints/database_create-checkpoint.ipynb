{
 "cells": [
  {
   "cell_type": "code",
   "execution_count": 2,
   "id": "0020c69c",
   "metadata": {},
   "outputs": [],
   "source": [
    "import numpy as np\n",
    "import pandas as pd\n",
    "import csv"
   ]
  },
  {
   "cell_type": "code",
   "execution_count": 3,
   "id": "5d68da7e",
   "metadata": {},
   "outputs": [
    {
     "name": "stdout",
     "output_type": "stream",
     "text": [
      "12\n"
     ]
    }
   ],
   "source": [
    "fields=['Trust Score','cntSimTipIC','cntSimTipIS','cntSimTipICo','cntSimCCIC','cntSimCCIS','cntSimCCICo','q1','q2','q3','q4','q5']\n",
    "print(len(fields))"
   ]
  },
  {
   "cell_type": "code",
   "execution_count": 4,
   "id": "d978f738",
   "metadata": {},
   "outputs": [
    {
     "name": "stdout",
     "output_type": "stream",
     "text": [
      "(10000, 13)\n"
     ]
    }
   ],
   "source": [
    "arr=np.zeros((10000,13))\n",
    "print(arr.shape)"
   ]
  },
  {
   "cell_type": "code",
   "execution_count": 5,
   "id": "f5781543",
   "metadata": {},
   "outputs": [],
   "source": [
    "arr=np.random.randn(10000,13)"
   ]
  },
  {
   "cell_type": "code",
   "execution_count": 6,
   "id": "e01681e0",
   "metadata": {},
   "outputs": [
    {
     "name": "stdout",
     "output_type": "stream",
     "text": [
      "(10000, 13)\n"
     ]
    }
   ],
   "source": [
    "print(arr.shape)"
   ]
  },
  {
   "cell_type": "code",
   "execution_count": 7,
   "id": "c8860e10",
   "metadata": {},
   "outputs": [],
   "source": [
    "b=np.random.randint(low=0,high=2,size=[10000,1])"
   ]
  },
  {
   "cell_type": "code",
   "execution_count": 8,
   "id": "723d831a",
   "metadata": {},
   "outputs": [
    {
     "name": "stdout",
     "output_type": "stream",
     "text": [
      "(10000, 1)\n"
     ]
    }
   ],
   "source": [
    "print(b.shape)"
   ]
  },
  {
   "cell_type": "code",
   "execution_count": 10,
   "id": "9f265e50",
   "metadata": {},
   "outputs": [
    {
     "name": "stdout",
     "output_type": "stream",
     "text": [
      "(10000, 14)\n"
     ]
    }
   ],
   "source": [
    "c=np.hstack((arr,b))\n",
    "print(c.shape)"
   ]
  },
  {
   "cell_type": "code",
   "execution_count": 11,
   "id": "7819cf39",
   "metadata": {},
   "outputs": [],
   "source": [
    "filename='data.csv';\n",
    "# writing to csv file \n",
    "with open(filename, 'w') as csvfile: \n",
    "    # creating a csv writer object \n",
    "    csvwriter = csv.writer(csvfile) \n",
    "        \n",
    "    # writing the fields \n",
    "    csvwriter.writerow(fields) \n",
    "        \n",
    "    # writing the data rows \n",
    "    csvwriter.writerows(c)"
   ]
  },
  {
   "cell_type": "code",
   "execution_count": null,
   "id": "fd981b07",
   "metadata": {},
   "outputs": [],
   "source": [
    "x=np.random.randn(1000,13)\n",
    "b=np.random.randint(low=0,high=2,size=[1000,1])"
   ]
  }
 ],
 "metadata": {
  "kernelspec": {
   "display_name": "Python 3 (ipykernel)",
   "language": "python",
   "name": "python3"
  },
  "language_info": {
   "codemirror_mode": {
    "name": "ipython",
    "version": 3
   },
   "file_extension": ".py",
   "mimetype": "text/x-python",
   "name": "python",
   "nbconvert_exporter": "python",
   "pygments_lexer": "ipython3",
   "version": "3.10.0"
  }
 },
 "nbformat": 4,
 "nbformat_minor": 5
}
