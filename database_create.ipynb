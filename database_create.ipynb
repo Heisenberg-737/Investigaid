{
 "cells": [
  {
   "cell_type": "code",
   "execution_count": 15,
   "id": "0020c69c",
   "metadata": {},
   "outputs": [],
   "source": [
    "import numpy as np\n",
    "import pandas as pd\n",
    "import csv"
   ]
  },
  {
   "cell_type": "code",
   "execution_count": 17,
   "id": "5d68da7e",
   "metadata": {},
   "outputs": [
    {
     "name": "stdout",
     "output_type": "stream",
     "text": [
      "13\n"
     ]
    }
   ],
   "source": [
    "fields=['Trust Score','cntSimTipIC','cntSimTipIS','cntSimTipICo','cntSimCCIC','cntSimCCIS','cntSimCCICo','q1','q2','q3','q4','q5','y']\n",
    "print(len(fields))"
   ]
  },
  {
   "cell_type": "code",
   "execution_count": 28,
   "id": "d978f738",
   "metadata": {
    "scrolled": true
   },
   "outputs": [
    {
     "name": "stdout",
     "output_type": "stream",
     "text": [
      "(10000, 12)\n"
     ]
    }
   ],
   "source": [
    "arr=np.zeros((10000,12))\n",
    "print(arr.shape)"
   ]
  },
  {
   "cell_type": "code",
   "execution_count": 29,
   "id": "f5781543",
   "metadata": {},
   "outputs": [],
   "source": [
    "arr=np.random.randn(10000,12)"
   ]
  },
  {
   "cell_type": "code",
   "execution_count": 30,
   "id": "e01681e0",
   "metadata": {},
   "outputs": [
    {
     "name": "stdout",
     "output_type": "stream",
     "text": [
      "(10000, 12)\n"
     ]
    }
   ],
   "source": [
    "print(arr.shape)"
   ]
  },
  {
   "cell_type": "code",
   "execution_count": 31,
   "id": "9b5ce999",
   "metadata": {},
   "outputs": [],
   "source": [
    "b=np.random.randint(low=0,high=2,size=[10000,1])"
   ]
  },
  {
   "cell_type": "code",
   "execution_count": 32,
   "id": "b74ada0e",
   "metadata": {},
   "outputs": [
    {
     "name": "stdout",
     "output_type": "stream",
     "text": [
      "(10000, 1)\n"
     ]
    }
   ],
   "source": [
    "print(b.shape)"
   ]
  },
  {
   "cell_type": "code",
   "execution_count": 33,
   "id": "fed17bda",
   "metadata": {},
   "outputs": [
    {
     "name": "stdout",
     "output_type": "stream",
     "text": [
      "(10000, 13)\n"
     ]
    }
   ],
   "source": [
    "c=np.hstack((arr,b))\n",
    "print(c.shape)"
   ]
  },
  {
   "cell_type": "code",
   "execution_count": 35,
   "id": "7819cf39",
   "metadata": {},
   "outputs": [],
   "source": [
    "filename='train.csv';\n",
    "# writing to csv file \n",
    "with open(filename, 'w') as csvfile: \n",
    "    # creating a csv writer object \n",
    "    csvwriter = csv.writer(csvfile) \n",
    "        \n",
    "    # writing the fields \n",
    "    csvwriter.writerow(fields) \n",
    "        \n",
    "    # writing the data rows \n",
    "    csvwriter.writerows(c)"
   ]
  },
  {
   "cell_type": "code",
   "execution_count": 26,
   "id": "fd981b07",
   "metadata": {},
   "outputs": [
    {
     "name": "stdout",
     "output_type": "stream",
     "text": [
      "(1000, 13)\n"
     ]
    }
   ],
   "source": [
    "x=np.random.randn(1000,12)\n",
    "b=np.random.randint(low=0,high=2,size=[1000,1])\n",
    "c=np.hstack((x,b))\n",
    "print(c.shape)"
   ]
  },
  {
   "cell_type": "code",
   "execution_count": null,
   "id": "0a9d3348",
   "metadata": {},
   "outputs": [],
   "source": []
  }
 ],
 "metadata": {
  "kernelspec": {
   "display_name": "Python 3 (ipykernel)",
   "language": "python",
   "name": "python3"
  },
  "language_info": {
   "codemirror_mode": {
    "name": "ipython",
    "version": 3
   },
   "file_extension": ".py",
   "mimetype": "text/x-python",
   "name": "python",
   "nbconvert_exporter": "python",
   "pygments_lexer": "ipython3",
   "version": "3.10.0"
  }
 },
 "nbformat": 4,
 "nbformat_minor": 5
}
